{
  "cells": [
    {
      "cell_type": "markdown",
      "metadata": {},
      "source": [
        "# \ud83e\uddea Delta Lake Example Notebook\n",
        "\n",
        "This notebook demonstrates key Delta Lake features:\n",
        "- ACID transactions\n",
        "- Schema enforcement and evolution\n",
        "- Time travel\n",
        "- Integration with Apache Spark\n"
      ]
    },
    {
      "cell_type": "code",
      "execution_count": null,
      "metadata": {},
      "outputs": [],
      "source": [
        "# Create a Spark session with Delta support\n",
        "from pyspark.sql import SparkSession\n",
        "\n",
        "spark = SparkSession.builder \\\n",
        "    .appName(\"DeltaLakeDemo\") \\\n",
        "    .config(\"spark.sql.extensions\", \"io.delta.sql.DeltaSparkSessionExtension\") \\\n",
        "    .config(\"spark.sql.catalog.spark_catalog\", \"org.apache.spark.sql.delta.catalog.DeltaCatalog\") \\\n",
        "    .getOrCreate()"
      ]
    },
    {
      "cell_type": "code",
      "execution_count": null,
      "metadata": {},
      "outputs": [],
      "source": [
        "# Create a DataFrame and save it as Delta\n",
        "data = [(1, \"Manzana\", 10), (2, \"Naranja\", 15), (3, \"Pl\u00e1tano\", 7)]\n",
        "columns = [\"id\", \"fruta\", \"cantidad\"]\n",
        "df = spark.createDataFrame(data, columns)\n",
        "\n",
        "delta_path = \"/tmp/frutas_delta\"\n",
        "df.write.format(\"delta\").mode(\"overwrite\").save(delta_path)"
      ]
    },
    {
      "cell_type": "code",
      "execution_count": null,
      "metadata": {},
      "outputs": [],
      "source": [
        "# Read and display the Delta table\n",
        "df_delta = spark.read.format(\"delta\").load(delta_path)\n",
        "df_delta.show()"
      ]
    },
    {
      "cell_type": "code",
      "execution_count": null,
      "metadata": {},
      "outputs": [],
      "source": [
        "# Update data using DeltaTable API\n",
        "from delta.tables import DeltaTable\n",
        "\n",
        "delta_table = DeltaTable.forPath(spark, delta_path)\n",
        "\n",
        "delta_table.update(\n",
        "    condition=\"fruta = 'Manzana'\",\n",
        "    set={\"cantidad\": \"cantidad + 5\"}\n",
        ")\n",
        "\n",
        "spark.read.format(\"delta\").load(delta_path).show()"
      ]
    },
    {
      "cell_type": "code",
      "execution_count": null,
      "metadata": {},
      "outputs": [],
      "source": [
        "# Time Travel - read previous version\n",
        "df_old = spark.read.format(\"delta\") \\\n",
        "    .option(\"versionAsOf\", 0) \\\n",
        "    .load(delta_path)\n",
        "\n",
        "df_old.show()"
      ]
    }
  ],
  "metadata": {
    "kernelspec": {
      "display_name": "Python 3",
      "language": "python",
      "name": "python3"
    },
    "language_info": {
      "name": "python",
      "version": "3.x"
    }
  },
  "nbformat": 4,
  "nbformat_minor": 5
}